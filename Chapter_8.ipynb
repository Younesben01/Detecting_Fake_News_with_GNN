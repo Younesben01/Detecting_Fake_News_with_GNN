{
  "nbformat": 4,
  "nbformat_minor": 0,
  "metadata": {
    "colab": {
      "provenance": []
    },
    "kernelspec": {
      "name": "python3",
      "display_name": "Python 3"
    },
    "language_info": {
      "name": "python"
    }
  },
  "cells": [
    {
      "cell_type": "markdown",
      "source": [
        "### Library Installation"
      ],
      "metadata": {
        "id": "h_gOXnjemZI1"
      }
    },
    {
      "cell_type": "code",
      "execution_count": null,
      "metadata": {
        "id": "RuuwElV7jiyc"
      },
      "outputs": [],
      "source": [
        "# PyG installation\n",
        "!pip install -q torch-scatter -f https://pytorch-geometric.com/whl/torch-${TORCH}+${CUDA}.html\n",
        "!pip install -q torch-sparse -f https://pytorch-geometric.com/whl/torch-${TORCH}+${CUDA}.html\n",
        "!pip install -q git+https://github.com/rusty1s/pytorch_geometric.git"
      ]
    },
    {
      "cell_type": "code",
      "source": [
        "import torch\n",
        "vers = torch.__version__\n",
        "print(\"Torch vers: \", vers)"
      ],
      "metadata": {
        "id": "hN_KYPxWkyiq"
      },
      "execution_count": null,
      "outputs": []
    },
    {
      "cell_type": "markdown",
      "source": [
        "### Dataset Setup"
      ],
      "metadata": {
        "id": "L3FkHJQUmmMv"
      }
    },
    {
      "cell_type": "code",
      "source": [
        "from torch_geometric.datasets import UPFD\n",
        "\n",
        "DATA_ROOT = \"/content/FakeNewsNet/dataset\"\n",
        "train_data = UPFD(root = DATA_ROOT, \n",
        "                  name=\"gossipcop\", feature=\"content\", \n",
        "                  split=\"train\")\n",
        "test_data = UPFD(root = DATA_ROOT, \n",
        "                 name=\"gossipcop\", feature=\"content\", \n",
        "                 split=\"test\")"
      ],
      "metadata": {
        "id": "CkzAUhczk3GB"
      },
      "execution_count": null,
      "outputs": []
    },
    {
      "cell_type": "code",
      "source": [
        "print(\"# Training Examples: {}\".format(len(train_data)))\n",
        "print(\"# Test Examples: {}\".format(len(test_data)))"
      ],
      "metadata": {
        "id": "_kh44MsKk7Sb"
      },
      "execution_count": null,
      "outputs": []
    },
    {
      "cell_type": "code",
      "source": [
        "train_data[0]"
      ],
      "metadata": {
        "id": "OCnsLzJ2k-yN"
      },
      "execution_count": null,
      "outputs": []
    },
    {
      "cell_type": "markdown",
      "source": [
        "### Graph Visualization"
      ],
      "metadata": {
        "id": "njPx6ivdmptC"
      }
    },
    {
      "cell_type": "code",
      "source": [
        "import networkx as nx\n",
        "def to_networkx(data, node_attrs=None, edge_attrs=None, to_undirected=False,\n",
        "                remove_self_loops=False):\n",
        "    if to_undirected:\n",
        "        G = nx.Graph()\n",
        "    else:\n",
        "        G = nx.DiGraph()\n",
        "    G.add_nodes_from(range(data.num_nodes))\n",
        "    node_attrs, edge_attrs = node_attrs or [], edge_attrs or []\n",
        "    values = {}\n",
        "    for key, item in data(*(node_attrs + edge_attrs)):\n",
        "        if torch.is_tensor(item):\n",
        "            values[key] = item.squeeze().tolist()\n",
        "        else:\n",
        "            values[key] = item\n",
        "        if isinstance(values[key], (list, tuple)) and len(values[key]) == 1:\n",
        "            values[key] = item[0]\n",
        "    for i, (u, v) in enumerate(data.edge_index.t().tolist()):\n",
        "        if to_undirected and v > u:\n",
        "            continue\n",
        "        if remove_self_loops and u == v:\n",
        "            continue\n",
        "        G.add_edge(u, v)\n",
        "        for key in edge_attrs:\n",
        "            G[u][v][key] = values[key][i]\n",
        "    for key in node_attrs:\n",
        "        for i, feat_dict in G.nodes(data=True):\n",
        "            feat_dict.update({key: values[key][i]})\n",
        "    return G"
      ],
      "metadata": {
        "id": "RuQd5P_-lDQu"
      },
      "execution_count": null,
      "outputs": []
    },
    {
      "cell_type": "code",
      "source": [
        "nx.draw(to_networkx(train_data[1]))"
      ],
      "metadata": {
        "id": "XtjFmAEWlGj5"
      },
      "execution_count": null,
      "outputs": []
    },
    {
      "cell_type": "markdown",
      "source": [
        "### GNN Implementation"
      ],
      "metadata": {
        "id": "lnOZnF9kmuj-"
      }
    },
    {
      "cell_type": "markdown",
      "source": [
        "#### Data Loading"
      ],
      "metadata": {
        "id": "Itp_c4ptm0rn"
      }
    },
    {
      "cell_type": "code",
      "source": [
        "from torch_geometric.loader import DataLoader\n",
        "train_loader = DataLoader(train_data, batch_size=128, shuffle=True)\n",
        "test_loader = DataLoader(test_data, batch_size=128, shuffle=False)"
      ],
      "metadata": {
        "id": "rzv1qDpVlJ_7"
      },
      "execution_count": null,
      "outputs": []
    },
    {
      "cell_type": "markdown",
      "source": [
        "#### GNN Architecture"
      ],
      "metadata": {
        "id": "D9cy1IWGm5-n"
      }
    },
    {
      "cell_type": "code",
      "source": [
        "from torch_geometric.nn import global_max_pool as gmp\n",
        "from torch_geometric.nn import GATConv\n",
        "from torch.nn import Linear\n",
        "\n",
        "\n",
        "class GNN(torch.nn.Module):\n",
        "    def __init__(self, \n",
        "                 in_channels, hidden_channels, out_channels):\n",
        "      \n",
        "        super().__init__()\n",
        "        \n",
        "        # Graph Convolutions\n",
        "        self.convolution_1 = GATConv(in_channels, hidden_channels)\n",
        "        self.convolution_2 = GATConv(hidden_channels, hidden_channels)\n",
        "        self.convolution_3 = GATConv(hidden_channels, hidden_channels)\n",
        "\n",
        "        # Readout Layers\n",
        "        # For news features\n",
        "        self.lin_news = Linear(in_channels, hidden_channels)\n",
        "\n",
        "        # For processing graph features\n",
        "        self.lin0 = Linear(hidden_channels, hidden_channels)\n",
        "\n",
        "        # For pre-final layer for softmax\n",
        "        self.lin1 = Linear(2*hidden_channels, out_channels)\n",
        "\n",
        "    def forward(self, x, edge_index, batch):\n",
        "        # Graph Convolutions\n",
        "        h = self.conv1(x, edge_index).relu()\n",
        "        h = self.conv2(h, edge_index).relu()\n",
        "        h = self.conv3(h, edge_index).relu()\n",
        "\n",
        "        # Pooling\n",
        "        h = gmp(h, batch)\n",
        "\n",
        "        # Readout\n",
        "        h = self.lin0(h).relu()\n",
        "\n",
        "        # Following the UPFD paper, we include raw word2vec embeddings of news \n",
        "        root = (batch[1:] - batch[:-1]).nonzero(as_tuple=False).view(-1)\n",
        "        root = torch.cat([root.new_zeros(1), root + 1], dim=0)\n",
        "\n",
        "        news = x[root]\n",
        "        news = self.lin_news(news).relu()\n",
        "        \n",
        "        out = self.lin1(torch.cat([h, news], dim=-1))\n",
        "        return torch.sigmoid(out)"
      ],
      "metadata": {
        "id": "zRlxvJU2lMeH"
      },
      "execution_count": null,
      "outputs": []
    },
    {
      "cell_type": "code",
      "source": [
        "from sklearn.metrics import accuracy_score, f1_score\n",
        "\n",
        "if torch.cuda.is_available():\n",
        "  device = 'cuda'\n",
        "else:\n",
        "  device = 'cpu'\n",
        "\n",
        "model = GNN(train_data.num_features, 128, 1).to(device)\n",
        "optimizer = torch.optim.Adam(model.parameters(), lr=0.01, weight_decay=0.01)\n",
        "loss_fnc = torch.nn.BCELoss()"
      ],
      "metadata": {
        "id": "08espfYLlhG7"
      },
      "execution_count": null,
      "outputs": []
    },
    {
      "cell_type": "markdown",
      "source": [
        "#### Model Training"
      ],
      "metadata": {
        "id": "M2bZopkQm9w8"
      }
    },
    {
      "cell_type": "code",
      "source": [
        "def train(epoch):\n",
        "    model.train()\n",
        "    total_loss = 0\n",
        "    for data in train_loader:\n",
        "        data = data.to(device)\n",
        "        optimizer.zero_grad()\n",
        "        out = model(data.x, data.edge_index, data.batch)\n",
        "        loss = loss_fnc(torch.reshape(out, (-1,)), data.y.float())\n",
        "        loss.backward()\n",
        "        optimizer.step()\n",
        "        total_loss += float(loss) * data.num_graphs\n",
        "    return total_loss / len(train_loader.dataset)"
      ],
      "metadata": {
        "id": "IwKyY5E9lh4v"
      },
      "execution_count": null,
      "outputs": []
    },
    {
      "cell_type": "markdown",
      "source": [
        "#### Model Testing"
      ],
      "metadata": {
        "id": "PAKdTFGlnA_T"
      }
    },
    {
      "cell_type": "code",
      "source": [
        "@torch.no_grad()\n",
        "def test(epoch):\n",
        "    model.eval()\n",
        "    total_loss = 0\n",
        "    all_preds = []\n",
        "    all_labels = []\n",
        "    for data in test_loader:\n",
        "        data = data.to(device)\n",
        "        out = model(data.x, data.edge_index, data.batch)\n",
        "        loss = loss_fnc(torch.reshape(out, (-1,)), data.y.float())\n",
        "        total_loss += float(loss) * data.num_graphs\n",
        "        all_preds.append(torch.reshape(out, (-1,)))\n",
        "        all_labels.append(data.y.float())\n",
        "\n",
        "    # Calculate Metrics\n",
        "    accuracy, f1 = metrics(all_preds, all_labels)\n",
        "\n",
        "    return total_loss / len(test_loader.dataset), accuracy, f1"
      ],
      "metadata": {
        "id": "yUZDp9GSlltS"
      },
      "execution_count": null,
      "outputs": []
    },
    {
      "cell_type": "code",
      "source": [
        "def metrics(predicted, actuals):\n",
        "    preds = torch.round(torch.cat(predicted))\n",
        "    acts = torch.cat(actuals)\n",
        "    acc = accuracy_score(preds, acts)\n",
        "    f1 = f1_score(preds, acts)\n",
        "    return acc, f1"
      ],
      "metadata": {
        "id": "lu1I_mqylopI"
      },
      "execution_count": null,
      "outputs": []
    },
    {
      "cell_type": "markdown",
      "source": [
        "#### Visualization"
      ],
      "metadata": {
        "id": "M8aztjU9nEll"
      }
    },
    {
      "cell_type": "code",
      "source": [
        "NUM_EPOCHS = 50\n",
        "train_losses = []\n",
        "test_losses = []\n",
        "for epoch in range(NUM_EPOCHS):\n",
        "    train_loss = train(epoch)\n",
        "    test_loss, test_acc, test_f1 = test(epoch)\n",
        "    train_losses.append(train_loss)\n",
        "    test_losses.append(test_loss)\n",
        "    print(f'Epoch: {epoch:04d}  ==  Training Loss: {train_loss:.4f}  ==  '\n",
        "          f'TestLoss: {test_loss:.4f}  ==  TestAcc: {test_acc:.4f}  ==  TestF1: {test_f1:.4f}')"
      ],
      "metadata": {
        "id": "a7LgHQhblrHX"
      },
      "execution_count": null,
      "outputs": []
    },
    {
      "cell_type": "code",
      "source": [
        "import matplotlib.pyplot as plt \n",
        "plt.plot(list(range(NUM_EPOCHS)), train_losses, color = 'blue', label = 'Training Loss')\n",
        "plt.plot(list(range(NUM_EPOCHS)), test_losses, color = 'red', label = 'Test Loss')\n",
        "plt.xlabel(\"Epoch\")\n",
        "plt.ylabel(\"Loss\")\n",
        "plt.legend()"
      ],
      "metadata": {
        "id": "LVBSM-PGlzKF"
      },
      "execution_count": null,
      "outputs": []
    }
  ]
}